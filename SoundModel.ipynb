{
 "cells": [
  {
   "cell_type": "markdown",
   "id": "3d39efac-ab7b-4ec3-b12a-9fd34adf076d",
   "metadata": {},
   "source": [
    "### Import Dependencies"
   ]
  },
  {
   "cell_type": "code",
   "execution_count": 2,
   "id": "8691be2d-859c-40a9-9637-73aa2208082a",
   "metadata": {
    "tags": []
   },
   "outputs": [
    {
     "name": "stdout",
     "output_type": "stream",
     "text": [
      "WARNING:tensorflow:From C:\\Users\\Asus\\anaconda3\\Lib\\site-packages\\keras\\src\\losses.py:2976: The name tf.losses.sparse_softmax_cross_entropy is deprecated. Please use tf.compat.v1.losses.sparse_softmax_cross_entropy instead.\n",
      "\n"
     ]
    }
   ],
   "source": [
    "import keras\n",
    "from keras.models import Sequential\n",
    "from keras.layers import Conv2D, MaxPooling2D, Flatten, Dense, Activation, Dropout\n",
    "\n",
    "import librosa          #Read, write, play around with audio files\n",
    "import librosa.display\n",
    "\n",
    "import numpy as np\n",
    "import pandas as pd\n",
    "import random\n",
    "\n",
    "import warnings\n",
    "warnings.filterwarnings('ignore')"
   ]
  },
  {
   "cell_type": "markdown",
   "id": "fe81f956-58e0-4fec-9d16-da8f285703ec",
   "metadata": {},
   "source": [
    "### Load Dataset"
   ]
  },
  {
   "cell_type": "code",
   "execution_count": 5,
   "id": "954ca9df-faea-4614-847f-f34f693e34c5",
   "metadata": {},
   "outputs": [],
   "source": [
    "df = pd.read_csv('UrbanSound8K.csv')"
   ]
  },
  {
   "cell_type": "code",
   "execution_count": 7,
   "id": "50d2e27c-4c3a-42e5-afb6-7d78ba1913e0",
   "metadata": {
    "tags": []
   },
   "outputs": [
    {
     "data": {
      "text/html": [
       "<div>\n",
       "<style scoped>\n",
       "    .dataframe tbody tr th:only-of-type {\n",
       "        vertical-align: middle;\n",
       "    }\n",
       "\n",
       "    .dataframe tbody tr th {\n",
       "        vertical-align: top;\n",
       "    }\n",
       "\n",
       "    .dataframe thead th {\n",
       "        text-align: right;\n",
       "    }\n",
       "</style>\n",
       "<table border=\"1\" class=\"dataframe\">\n",
       "  <thead>\n",
       "    <tr style=\"text-align: right;\">\n",
       "      <th></th>\n",
       "      <th>slice_file_name</th>\n",
       "      <th>fsID</th>\n",
       "      <th>start</th>\n",
       "      <th>end</th>\n",
       "      <th>salience</th>\n",
       "      <th>fold</th>\n",
       "      <th>classID</th>\n",
       "      <th>class</th>\n",
       "    </tr>\n",
       "  </thead>\n",
       "  <tbody>\n",
       "    <tr>\n",
       "      <th>707</th>\n",
       "      <td>113202-5-0-25.wav</td>\n",
       "      <td>113202</td>\n",
       "      <td>12.500000</td>\n",
       "      <td>16.500000</td>\n",
       "      <td>1</td>\n",
       "      <td>8</td>\n",
       "      <td>5</td>\n",
       "      <td>engine_idling</td>\n",
       "    </tr>\n",
       "    <tr>\n",
       "      <th>2933</th>\n",
       "      <td>162134-7-15-4.wav</td>\n",
       "      <td>162134</td>\n",
       "      <td>263.597486</td>\n",
       "      <td>267.597486</td>\n",
       "      <td>1</td>\n",
       "      <td>10</td>\n",
       "      <td>7</td>\n",
       "      <td>jackhammer</td>\n",
       "    </tr>\n",
       "    <tr>\n",
       "      <th>5967</th>\n",
       "      <td>29721-4-0-10.wav</td>\n",
       "      <td>29721</td>\n",
       "      <td>5.000000</td>\n",
       "      <td>9.000000</td>\n",
       "      <td>1</td>\n",
       "      <td>3</td>\n",
       "      <td>4</td>\n",
       "      <td>drilling</td>\n",
       "    </tr>\n",
       "    <tr>\n",
       "      <th>3364</th>\n",
       "      <td>169044-2-0-5.wav</td>\n",
       "      <td>169044</td>\n",
       "      <td>2.500000</td>\n",
       "      <td>6.500000</td>\n",
       "      <td>1</td>\n",
       "      <td>3</td>\n",
       "      <td>2</td>\n",
       "      <td>children_playing</td>\n",
       "    </tr>\n",
       "    <tr>\n",
       "      <th>862</th>\n",
       "      <td>11722-3-0-0.wav</td>\n",
       "      <td>11722</td>\n",
       "      <td>0.087343</td>\n",
       "      <td>1.345883</td>\n",
       "      <td>1</td>\n",
       "      <td>10</td>\n",
       "      <td>3</td>\n",
       "      <td>dog_bark</td>\n",
       "    </tr>\n",
       "  </tbody>\n",
       "</table>\n",
       "</div>"
      ],
      "text/plain": [
       "        slice_file_name    fsID       start         end  salience  fold  \\\n",
       "707   113202-5-0-25.wav  113202   12.500000   16.500000         1     8   \n",
       "2933  162134-7-15-4.wav  162134  263.597486  267.597486         1    10   \n",
       "5967   29721-4-0-10.wav   29721    5.000000    9.000000         1     3   \n",
       "3364   169044-2-0-5.wav  169044    2.500000    6.500000         1     3   \n",
       "862     11722-3-0-0.wav   11722    0.087343    1.345883         1    10   \n",
       "\n",
       "      classID             class  \n",
       "707         5     engine_idling  \n",
       "2933        7        jackhammer  \n",
       "5967        4          drilling  \n",
       "3364        2  children_playing  \n",
       "862         3          dog_bark  "
      ]
     },
     "execution_count": 7,
     "metadata": {},
     "output_type": "execute_result"
    }
   ],
   "source": [
    "df.sample(5)"
   ]
  },
  {
   "cell_type": "code",
   "execution_count": 9,
   "id": "0144478c-db65-41a3-8680-5f6b2fa3315c",
   "metadata": {
    "tags": []
   },
   "outputs": [
    {
     "data": {
      "text/plain": [
       "(8732, 8)"
      ]
     },
     "execution_count": 9,
     "metadata": {},
     "output_type": "execute_result"
    }
   ],
   "source": [
    "df.shape"
   ]
  },
  {
   "cell_type": "markdown",
   "id": "85c79610-1f6e-4eb7-9e8d-70ca4e0560a1",
   "metadata": {},
   "source": [
    "### Work on Data"
   ]
  },
  {
   "cell_type": "markdown",
   "id": "2604ddfe-1f9a-4641-bff6-5da8832bdd23",
   "metadata": {},
   "source": [
    "#### Get valid data"
   ]
  },
  {
   "cell_type": "code",
   "execution_count": 15,
   "id": "19899a40-b459-45c3-9f85-de76ab9b7159",
   "metadata": {
    "tags": []
   },
   "outputs": [],
   "source": [
    "# Consider data above 3s\n",
    "valid_data = df[['slice_file_name','fold','classID','class']][df['end']-df['start'] >= 3]"
   ]
  },
  {
   "cell_type": "code",
   "execution_count": 17,
   "id": "1dd660d6-a0fa-4167-897d-67779be4b106",
   "metadata": {
    "tags": []
   },
   "outputs": [
    {
     "data": {
      "text/plain": [
       "(7468, 4)"
      ]
     },
     "execution_count": 17,
     "metadata": {},
     "output_type": "execute_result"
    }
   ],
   "source": [
    "valid_data.shape"
   ]
  },
  {
   "cell_type": "markdown",
   "id": "4ff77e34-4924-4129-ad79-c1c5f95abe6d",
   "metadata": {},
   "source": [
    "#### Create a Spectogram"
   ]
  },
  {
   "cell_type": "code",
   "execution_count": 20,
   "id": "24dde44c-706c-4929-98e8-9a73de9e485c",
   "metadata": {
    "tags": []
   },
   "outputs": [
    {
     "data": {
      "text/plain": [
       "(128, 128)"
      ]
     },
     "execution_count": 20,
     "metadata": {},
     "output_type": "execute_result"
    }
   ],
   "source": [
    "y, sr = librosa.load('fold6/135160-8-0-0.wav', duration = 2.97)\n",
    "ps = librosa.feature.melspectrogram(y = y, sr = sr)\n",
    "ps.shape"
   ]
  },
  {
   "cell_type": "code",
   "execution_count": 21,
   "id": "ee1395cf-fd81-4b9b-a8e6-7d4964842588",
   "metadata": {
    "tags": []
   },
   "outputs": [
    {
     "data": {
      "image/png": "[encoded data removed]",
      "text/plain": [
       "<Figure size 640x480 with 1 Axes>"
      ]
     },
     "metadata": {},
     "output_type": "display_data"
    }
   ],
   "source": [
    "librosa.display.specshow(ps, y_axis = 'mel', x_axis = 'time');\n",
    "# Colour indicates loudness: Brighter colour = Larger Sound"
   ]
  },
  {
   "cell_type": "code",
   "execution_count": 24,
   "id": "5d1229da-f68f-4af5-829f-e9d59818ecba",
   "metadata": {
    "tags": []
   },
   "outputs": [
    {
     "data": {
      "image/png": "[encoded data removed]",
      "text/plain": [
       "<Figure size 640x480 with 1 Axes>"
      ]
     },
     "metadata": {},
     "output_type": "display_data"
    }
   ],
   "source": [
    "y, sr = librosa.load('fold1/134717-0-0-19.wav', duration = 2.97)\n",
    "ps = librosa.feature.melspectrogram(y = y, sr = sr)\n",
    "librosa.display.specshow(ps, y_axis = 'mel', x_axis = 'time');"
   ]
  },
  {
   "cell_type": "code",
   "execution_count": 26,
   "id": "adc8a284-95e8-41e8-aa8b-60cab3f1c3d5",
   "metadata": {
    "tags": []
   },
   "outputs": [],
   "source": [
    "valid_data['path'] = 'fold' + valid_data['fold'].astype('str') + '/' + valid_data['slice_file_name'].astype('str')"
   ]
  },
  {
   "cell_type": "code",
   "execution_count": 28,
   "id": "4363e77e-cead-4f09-8949-6159b57d3a1d",
   "metadata": {
    "tags": []
   },
   "outputs": [
    {
     "data": {
      "text/html": [
       "<div>\n",
       "<style scoped>\n",
       "    .dataframe tbody tr th:only-of-type {\n",
       "        vertical-align: middle;\n",
       "    }\n",
       "\n",
       "    .dataframe tbody tr th {\n",
       "        vertical-align: top;\n",
       "    }\n",
       "\n",
       "    .dataframe thead th {\n",
       "        text-align: right;\n",
       "    }\n",
       "</style>\n",
       "<table border=\"1\" class=\"dataframe\">\n",
       "  <thead>\n",
       "    <tr style=\"text-align: right;\">\n",
       "      <th></th>\n",
       "      <th>slice_file_name</th>\n",
       "      <th>fold</th>\n",
       "      <th>classID</th>\n",
       "      <th>class</th>\n",
       "      <th>path</th>\n",
       "    </tr>\n",
       "  </thead>\n",
       "  <tbody>\n",
       "    <tr>\n",
       "      <th>6858</th>\n",
       "      <td>57320-0-0-15.wav</td>\n",
       "      <td>1</td>\n",
       "      <td>0</td>\n",
       "      <td>air_conditioner</td>\n",
       "      <td>fold1/57320-0-0-15.wav</td>\n",
       "    </tr>\n",
       "    <tr>\n",
       "      <th>8117</th>\n",
       "      <td>79089-0-0-48.wav</td>\n",
       "      <td>9</td>\n",
       "      <td>0</td>\n",
       "      <td>air_conditioner</td>\n",
       "      <td>fold9/79089-0-0-48.wav</td>\n",
       "    </tr>\n",
       "    <tr>\n",
       "      <th>7040</th>\n",
       "      <td>61626-9-0-6.wav</td>\n",
       "      <td>4</td>\n",
       "      <td>9</td>\n",
       "      <td>street_music</td>\n",
       "      <td>fold4/61626-9-0-6.wav</td>\n",
       "    </tr>\n",
       "    <tr>\n",
       "      <th>8492</th>\n",
       "      <td>94632-5-0-34.wav</td>\n",
       "      <td>6</td>\n",
       "      <td>5</td>\n",
       "      <td>engine_idling</td>\n",
       "      <td>fold6/94632-5-0-34.wav</td>\n",
       "    </tr>\n",
       "    <tr>\n",
       "      <th>3228</th>\n",
       "      <td>166942-0-0-1.wav</td>\n",
       "      <td>4</td>\n",
       "      <td>0</td>\n",
       "      <td>air_conditioner</td>\n",
       "      <td>fold4/166942-0-0-1.wav</td>\n",
       "    </tr>\n",
       "  </tbody>\n",
       "</table>\n",
       "</div>"
      ],
      "text/plain": [
       "       slice_file_name  fold  classID            class                    path\n",
       "6858  57320-0-0-15.wav     1        0  air_conditioner  fold1/57320-0-0-15.wav\n",
       "8117  79089-0-0-48.wav     9        0  air_conditioner  fold9/79089-0-0-48.wav\n",
       "7040   61626-9-0-6.wav     4        9     street_music   fold4/61626-9-0-6.wav\n",
       "8492  94632-5-0-34.wav     6        5    engine_idling  fold6/94632-5-0-34.wav\n",
       "3228  166942-0-0-1.wav     4        0  air_conditioner  fold4/166942-0-0-1.wav"
      ]
     },
     "execution_count": 28,
     "metadata": {},
     "output_type": "execute_result"
    }
   ],
   "source": [
    "valid_data.sample(5)"
   ]
  },
  {
   "cell_type": "markdown",
   "id": "6e301541-4c7e-407a-a4ae-a6bb30ae45be",
   "metadata": {},
   "source": [
    "#### Iterate Over Data "
   ]
  },
  {
   "cell_type": "code",
   "execution_count": 31,
   "id": "3c304f9d-5399-414e-8b4a-9a916027d43a",
   "metadata": {
    "tags": []
   },
   "outputs": [],
   "source": [
    "D = []\n",
    "\n",
    "for row in valid_data.itertuples():\n",
    "    y, sr = librosa.load(row.path, duration = 2.97)\n",
    "    ps = librosa.feature.melspectrogram(y = y, sr = sr)\n",
    "    if ps.shape != (128, 128):\n",
    "        continue\n",
    "    D.append( (ps, row.classID) )"
   ]
  },
  {
   "cell_type": "code",
   "execution_count": 32,
   "id": "f47e9dbe-9c99-4dd5-8b31-cce867b34d8f",
   "metadata": {
    "tags": []
   },
   "outputs": [
    {
     "name": "stdout",
     "output_type": "stream",
     "text": [
      "Number of Samples:  7467\n"
     ]
    }
   ],
   "source": [
    "print('Number of Samples: ', len(D))"
   ]
  },
  {
   "cell_type": "markdown",
   "id": "19fe0f10-a967-4f61-88eb-f43f9046006f",
   "metadata": {
    "tags": []
   },
   "source": [
    "### Split Data"
   ]
  },
  {
   "cell_type": "code",
   "execution_count": 34,
   "id": "399d5a0b-131f-4f2b-97b6-211a3453cf44",
   "metadata": {
    "tags": []
   },
   "outputs": [],
   "source": [
    "dataset = D\n",
    "random.shuffle(dataset)\n",
    "\n",
    "train = dataset[:7000]\n",
    "test = dataset[7000:]\n",
    "\n",
    "X_train, y_train = zip(*train)\n",
    "X_test, y_test = zip(*test)\n",
    "\n",
    "# Reshape Data\n",
    "X_train = np.array([x.reshape( (128,128,1) ) for x in X_train])\n",
    "X_test = np.array([x.reshape( (128,128,1) ) for x in X_test])"
   ]
  },
  {
   "cell_type": "code",
   "execution_count": 35,
   "id": "2e0bbdcb-03ac-4aef-9765-a28e1ad7cce8",
   "metadata": {
    "tags": []
   },
   "outputs": [],
   "source": [
    "# One Hot Encoding of Test classes\n",
    "y_train = np.array(keras.utils.to_categorical(y_train, 10))\n",
    "y_test = np.array(keras.utils.to_categorical(y_test, 10))"
   ]
  },
  {
   "cell_type": "markdown",
   "id": "5581e459-f837-4312-8be4-2a8bd48a98b3",
   "metadata": {},
   "source": [
    "### Make a Model"
   ]
  },
  {
   "cell_type": "code",
   "execution_count": 37,
   "id": "17b940bc-a03d-4aed-b245-6d3589044fe4",
   "metadata": {
    "tags": []
   },
   "outputs": [
    {
     "name": "stdout",
     "output_type": "stream",
     "text": [
      "WARNING:tensorflow:From C:\\Users\\Asus\\anaconda3\\Lib\\site-packages\\keras\\src\\backend.py:873: The name tf.get_default_graph is deprecated. Please use tf.compat.v1.get_default_graph instead.\n",
      "\n",
      "WARNING:tensorflow:From C:\\Users\\Asus\\anaconda3\\Lib\\site-packages\\keras\\src\\layers\\pooling\\max_pooling2d.py:161: The name tf.nn.max_pool is deprecated. Please use tf.nn.max_pool2d instead.\n",
      "\n"
     ]
    }
   ],
   "source": [
    "model = Sequential()\n",
    "\n",
    "# Using 24 5*5 kernels\n",
    "model.add(Conv2D(24, (5,5), strides = (1,1), input_shape = (128, 128, 1)))\n",
    "model.add(MaxPooling2D((4,2) , strides = (4,2)))\n",
    "model.add(Activation('relu'))\n",
    "\n",
    "model.add(Conv2D(48, (5,5), strides = (1,1), padding = 'valid'))\n",
    "model.add(MaxPooling2D((4,2) , strides = (4,2)))\n",
    "model.add(Activation('relu'))\n",
    "\n",
    "model.add(Conv2D(48, (5,5), strides = (1,1), padding = 'valid'))\n",
    "model.add(Activation('relu'))\n",
    "\n",
    "model.add(Flatten())\n",
    "model.add(Dropout(rate = 0.5))\n",
    "\n",
    "model.add(Dense(64))\n",
    "model.add(Activation('relu'))\n",
    "model.add(Dropout(rate = 0.5))\n",
    "\n",
    "model.add(Dense(10))\n",
    "model.add(Activation('softmax'))"
   ]
  },
  {
   "cell_type": "markdown",
   "id": "a762597e-10c9-46f4-9dfe-d0b0b2d06f07",
   "metadata": {},
   "source": [
    "### Compile the model"
   ]
  },
  {
   "cell_type": "code",
   "execution_count": 46,
   "id": "5b0f67b1-1f7d-45fc-98b7-85e1b38a22b6",
   "metadata": {
    "tags": []
   },
   "outputs": [
    {
     "name": "stdout",
     "output_type": "stream",
     "text": [
      "Epoch 1/12\n",
      "55/55 [==============================] - 13s 224ms/step - loss: 1.0839 - accuracy: 0.6297 - val_loss: 1.0255 - val_accuracy: 0.6938\n",
      "Epoch 2/12\n",
      "55/55 [==============================] - 11s 196ms/step - loss: 0.9919 - accuracy: 0.6709 - val_loss: 1.0412 - val_accuracy: 0.6574\n",
      "Epoch 3/12\n",
      "55/55 [==============================] - 11s 197ms/step - loss: 0.9679 - accuracy: 0.6826 - val_loss: 0.9920 - val_accuracy: 0.7088\n",
      "Epoch 4/12\n",
      "55/55 [==============================] - 11s 199ms/step - loss: 0.9036 - accuracy: 0.7047 - val_loss: 1.0463 - val_accuracy: 0.7238\n",
      "Epoch 5/12\n",
      "55/55 [==============================] - 11s 198ms/step - loss: 0.8847 - accuracy: 0.7109 - val_loss: 0.8535 - val_accuracy: 0.7495\n",
      "Epoch 6/12\n",
      "55/55 [==============================] - 11s 201ms/step - loss: 0.8207 - accuracy: 0.7329 - val_loss: 0.9243 - val_accuracy: 0.7409\n",
      "Epoch 7/12\n",
      "55/55 [==============================] - 11s 197ms/step - loss: 0.7676 - accuracy: 0.7573 - val_loss: 1.1762 - val_accuracy: 0.6959\n",
      "Epoch 8/12\n",
      "55/55 [==============================] - 11s 199ms/step - loss: 1.0816 - accuracy: 0.6743 - val_loss: 1.0977 - val_accuracy: 0.7088\n",
      "Epoch 9/12\n",
      "55/55 [==============================] - 11s 195ms/step - loss: 0.8352 - accuracy: 0.7306 - val_loss: 0.9457 - val_accuracy: 0.7259\n",
      "Epoch 10/12\n",
      "55/55 [==============================] - 11s 197ms/step - loss: 0.6977 - accuracy: 0.7660 - val_loss: 0.8057 - val_accuracy: 0.7495\n",
      "Epoch 11/12\n",
      "55/55 [==============================] - 11s 198ms/step - loss: 0.6555 - accuracy: 0.7891 - val_loss: 0.8194 - val_accuracy: 0.7452\n",
      "Epoch 12/12\n",
      "55/55 [==============================] - 11s 200ms/step - loss: 0.6017 - accuracy: 0.8053 - val_loss: 0.8254 - val_accuracy: 0.7645\n",
      "15/15 [==============================] - 0s 26ms/step - loss: 0.8254 - accuracy: 0.7645\n",
      "Test Loss: 0.8253517150878906\n"
     ]
    }
   ],
   "source": [
    "model.compile(optimizer = 'adam',\n",
    "             loss = 'categorical_crossentropy',\n",
    "             metrics = ['accuracy'])\n",
    "\n",
    "model.fit(x = X_train,\n",
    "         y = y_train,\n",
    "         epochs = 12,\n",
    "         batch_size = 128,\n",
    "         validation_data = (X_test, y_test))\n",
    "\n",
    "score = model.evaluate(x = X_test,\n",
    "                      y = y_test)\n",
    "\n",
    "print('Test Loss:', score[0])"
   ]
  },
  {
   "cell_type": "code",
   "execution_count": null,
   "id": "301e3768-22b8-4887-86cb-4cd8481d2b3a",
   "metadata": {
    "tags": []
   },
   "outputs": [],
   "source": [
    "print('Test Accuracy', score[1])"
   ]
  },
  {
   "cell_type": "markdown",
   "id": "f94b2866-eab5-45d4-993c-6a6055a2842a",
   "metadata": {},
   "source": [
    "### Data Augmentation"
   ]
  },
  {
   "cell_type": "markdown",
   "id": "15ac06e8-048d-4356-97a0-9362c620260a",
   "metadata": {},
   "source": [
    "#### Changing Time of Audio"
   ]
  },
  {
   "cell_type": "code",
   "execution_count": null,
   "id": "23ebbf1c-85d7-447e-9847-487b30c00525",
   "metadata": {
    "tags": []
   },
   "outputs": [],
   "source": [
    "import soundfile as sf"
   ]
  },
  {
   "cell_type": "code",
   "execution_count": null,
   "id": "3c8bfe12-843c-4339-b942-9dc46c77eaf3",
   "metadata": {
    "tags": []
   },
   "outputs": [],
   "source": [
    "rate = 1.07\n",
    "\n",
    "for row in valid_data.itertuples():\n",
    "    y, sr = librosa.load(row.path)\n",
    "    y_changed = librosa.effects.time_stretch(y, rate = rate)\n",
    "    sf.write('fold' + str(row.fold) + '/speed_' + str(int(rate*100)) + '/' + row.slice_file_name, y_changed, sr)"
   ]
  },
  {
   "cell_type": "markdown",
   "id": "e7bb3bc9-bf6d-48c8-8f31-0f0ce840e0c3",
   "metadata": {},
   "source": [
    "#### Changing Pitch of Audio"
   ]
  },
  {
   "cell_type": "code",
   "execution_count": null,
   "id": "ed5c8d65-474f-403a-a45c-df39b57a3a55",
   "metadata": {},
   "outputs": [],
   "source": [
    "n_steps = 2\n",
    "\n",
    "for row in valid_data.itertuples():\n",
    "    y, sr = librosa.load(row.path)\n",
    "    y_changed = librosa.effects.ptch_shift(y, sr, n_steps = n_steps)\n",
    "    sf.write('fold' + str(row.fold) + '/ps1_' + str(int(n_steps)) + '/' + row.slice_file_name, y_changed, sr)"
   ]
  },
  {
   "cell_type": "code",
   "execution_count": null,
   "id": "350d262b-ef7c-402d-8384-b62c67a976d9",
   "metadata": {},
   "outputs": [],
   "source": []
  }
 ],
 "metadata": {
  "kernelspec": {
   "display_name": "Python 3 (ipykernel)",
   "language": "python",
   "name": "python3"
  },
  "language_info": {
   "codemirror_mode": {
    "name": "ipython",
    "version": 3
   },
   "file_extension": ".py",
   "mimetype": "text/x-python",
   "name": "python",
   "nbconvert_exporter": "python",
   "pygments_lexer": "ipython3",
   "version": "3.11.5"
  }
 },
 "nbformat": 4,
 "nbformat_minor": 5
}
